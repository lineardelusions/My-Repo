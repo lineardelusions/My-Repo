{
  "nbformat": 4,
  "nbformat_minor": 0,
  "metadata": {
    "colab": {
      "provenance": [],
      "include_colab_link": true
    },
    "kernelspec": {
      "name": "python3",
      "display_name": "Python 3"
    },
    "language_info": {
      "name": "python"
    }
  },
  "cells": [
    {
      "cell_type": "markdown",
      "metadata": {
        "id": "view-in-github",
        "colab_type": "text"
      },
      "source": [
        "<a href=\"https://colab.research.google.com/github/lineardelusions/My-Repo/blob/main/Fun_with_functions.ipynb\" target=\"_parent\"><img src=\"https://colab.research.google.com/assets/colab-badge.svg\" alt=\"Open In Colab\"/></a>"
      ]
    },
    {
      "cell_type": "markdown",
      "source": [
        "## Practice with functions!"
      ],
      "metadata": {
        "id": "v7Fw0shpijFC"
      }
    },
    {
      "cell_type": "markdown",
      "source": [
        "Our first simple function. It does not take any inputs or return any inputs. It just prints \"Hello!\"."
      ],
      "metadata": {
        "id": "UvKYDzLji207"
      }
    },
    {
      "cell_type": "code",
      "execution_count": null,
      "metadata": {
        "id": "H0wrawSW5811"
      },
      "outputs": [],
      "source": [
        "def say_hello():\n",
        "    print(\"Hello!\")"
      ]
    },
    {
      "cell_type": "markdown",
      "source": [
        "Below we call the function using `function_name()`"
      ],
      "metadata": {
        "id": "DnTkdHpyiwF6"
      }
    },
    {
      "cell_type": "code",
      "source": [],
      "metadata": {
        "id": "kCCP2mba6Lyj"
      },
      "execution_count": null,
      "outputs": []
    },
    {
      "cell_type": "markdown",
      "source": [
        "Let's write a function with two inputs (also referred to as parameters or arguments). It returns one output."
      ],
      "metadata": {
        "id": "iRjDg3-ejGw1"
      }
    },
    {
      "cell_type": "code",
      "source": [
        "def add_two_numbers(x, y):\n",
        "    # add two numbers and return them\n",
        "    return x + y"
      ],
      "metadata": {
        "id": "csUGzShP6PYI"
      },
      "execution_count": null,
      "outputs": []
    },
    {
      "cell_type": "code",
      "source": [
        "# Assign some values below and try it out\n",
        "print(2, 5)\n"
      ],
      "metadata": {
        "id": "dil6miz6_6zr",
        "colab": {
          "base_uri": "https://localhost:8080/"
        },
        "outputId": "596140c5-7c8c-4100-eb54-e18b05f47fee"
      },
      "execution_count": null,
      "outputs": [
        {
          "output_type": "stream",
          "name": "stdout",
          "text": [
            "2 5\n"
          ]
        }
      ]
    },
    {
      "cell_type": "markdown",
      "source": [
        "1. Make a function that takes in a firstname and lastname and then returns the string:  \n",
        "`\"Hello firstname lastname. How are you today?\"`\n",
        "\n",
        "For example with the name \"Paul Priest\" it would return\n",
        "\n",
        "`\"Hello Paul Priest. How are you today?\"`"
      ],
      "metadata": {
        "id": "e4GfNPpDg7h7"
      }
    },
    {
      "cell_type": "code",
      "source": [
        "def names_function():\n",
        "    # write your code here\n",
        "    print('Hello' + ' Danny ' + ' Miracle ' + ' How are you today? ')\n",
        "\n",
        "names_function()\n"
      ],
      "metadata": {
        "id": "nR3jvPhog7A5",
        "colab": {
          "base_uri": "https://localhost:8080/"
        },
        "outputId": "bcc28b43-95e3-4bfe-83ee-cf65f052a132"
      },
      "execution_count": null,
      "outputs": [
        {
          "output_type": "stream",
          "name": "stdout",
          "text": [
            "Hello Danny  Miracle  How are you today? \n"
          ]
        }
      ]
    },
    {
      "cell_type": "code",
      "source": [],
      "metadata": {
        "id": "Bep8AWgEkdtT"
      },
      "execution_count": null,
      "outputs": []
    },
    {
      "cell_type": "markdown",
      "source": [
        "2. Let's write a function that will repeatedly take input from a user and will print each new input until the user types the word: \"QUIT\"."
      ],
      "metadata": {
        "id": "8IOYCWykABSL"
      }
    },
    {
      "cell_type": "code",
      "source": [
        "# edit this function to take inputs and print them until the user inputs \"QUIT\"\n",
        "\n",
        "def cant_quit_me():\n",
        "    while True:\n",
        "        user_input = input()\n",
        "        print(user_input)\n",
        "        if user_input == \"QUIT\":\n",
        "            break\n",
        "cant_quit_me()"
      ],
      "metadata": {
        "id": "oyugvL2aiDIp",
        "colab": {
          "base_uri": "https://localhost:8080/"
        },
        "outputId": "1955cd9b-d346-4c29-c89d-8c111f313009"
      },
      "execution_count": null,
      "outputs": [
        {
          "output_type": "stream",
          "name": "stdout",
          "text": [
            "apple\n",
            "apple\n",
            "QUIT\n",
            "QUIT\n"
          ]
        }
      ]
    },
    {
      "cell_type": "code",
      "source": [],
      "metadata": {
        "id": "-L-AcbPwjsY7"
      },
      "execution_count": null,
      "outputs": []
    },
    {
      "cell_type": "markdown",
      "source": [
        "3. Finally, let's write a function that will repeatedly let the user input numbers until the user inputs \"q\" or \"Q\", then print the numbers that were input, along with their mean/average.\n",
        "\n",
        "\n",
        "Reminder: the mean is the sum of the numbers divided by how many total numbers there are.\n",
        "\n",
        "With the numbers: \n",
        "\n",
        "```\n",
        "numbers = [10, 20, 30]\n",
        "\n",
        "10 + 20 + 30 = 60\n",
        "\n",
        "60 / 3 = 20\n",
        "\n",
        "mean/average = 20\n",
        "```"
      ],
      "metadata": {
        "id": "qqFHywyfki6m"
      }
    },
    {
      "cell_type": "code",
      "source": [],
      "metadata": {
        "id": "ZxGO3fDrk4hG"
      },
      "execution_count": null,
      "outputs": []
    },
    {
      "cell_type": "code",
      "source": [
        "# edit this function to take inputs and print them until the user inputs \"QUIT\"\n",
        "\n",
        "def cant_quit_me():\n",
        "    while True:\n",
        "        user_input = input()\n",
        "        print(user_input)\n",
        "        if user_input == \"QUIT\":\n",
        "            break\n",
        "cant_quit_me()\n",
        "\n",
        "\n"
      ],
      "metadata": {
        "colab": {
          "base_uri": "https://localhost:8080/"
        },
        "outputId": "1955cd9b-d346-4c29-c89d-8c111f313009",
        "id": "-ioGt77ip4nZ"
      },
      "execution_count": null,
      "outputs": [
        {
          "output_type": "stream",
          "name": "stdout",
          "text": [
            "apple\n",
            "apple\n",
            "QUIT\n",
            "QUIT\n"
          ]
        }
      ]
    },
    {
      "cell_type": "code",
      "source": [
        "# Initialize an empty list to store the inputs \n",
        "inputs = [] \n",
        " \n",
        "# Get input from the user \n",
        "while True: \n",
        "    inp = input(\"Enter a value (enter 'q' to quit): \") \n",
        "    if inp == 'q': \n",
        "        break \n",
        "    inputs.append(inp) \n",
        " \n",
        "print(inputs)  # Output: ['1', '2', '3']\n",
        "numbers = [x, y, z] \n",
        "\n",
        "x + y + z = ()\n",
        "\n",
        "() / 3 = []\n",
        "\n",
        "mean/average = ()\n",
        "\n",
        "\n"
      ],
      "metadata": {
        "id": "usM4k0J1qMM-"
      },
      "execution_count": null,
      "outputs": []
    }
  ]
}